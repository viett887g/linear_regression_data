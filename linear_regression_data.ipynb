{
  "nbformat": 4,
  "nbformat_minor": 0,
  "metadata": {
    "colab": {
      "provenance": [],
      "authorship_tag": "ABX9TyMCBFzVQSCq6YL1JQi4xlWN",
      "include_colab_link": true
    },
    "kernelspec": {
      "name": "python3",
      "display_name": "Python 3"
    },
    "language_info": {
      "name": "python"
    }
  },
  "cells": [
    {
      "cell_type": "markdown",
      "metadata": {
        "id": "view-in-github",
        "colab_type": "text"
      },
      "source": [
        "<a href=\"https://colab.research.google.com/github/viett887g/linear_regression_data/blob/main/linear_regression_data.ipynb\" target=\"_parent\"><img src=\"https://colab.research.google.com/assets/colab-badge.svg\" alt=\"Open In Colab\"/></a>"
      ]
    },
    {
      "cell_type": "code",
      "source": [
        "from google.colab import drive\n",
        "drive.mount('/content/drive')"
      ],
      "metadata": {
        "colab": {
          "base_uri": "https://localhost:8080/"
        },
        "id": "oe8An1L0mcL4",
        "outputId": "612b66f9-d53d-4036-b716-89e436173e1d"
      },
      "execution_count": 502,
      "outputs": [
        {
          "output_type": "stream",
          "name": "stdout",
          "text": [
            "Drive already mounted at /content/drive; to attempt to forcibly remount, call drive.mount(\"/content/drive\", force_remount=True).\n"
          ]
        }
      ]
    },
    {
      "cell_type": "code",
      "execution_count": 568,
      "metadata": {
        "id": "TqD0icTx_pME"
      },
      "outputs": [],
      "source": [
        "from __future__ import print_function\n",
        "import numpy as np\n",
        "import matplotlib.pyplot as plt\n",
        "import math\n",
        "import pandas as pd\n",
        "from sklearn.linear_model import LinearRegression\n",
        "from sklearn import preprocessing\n",
        "from sklearn.model_selection import train_test_split\n",
        "from sklearn.metrics import mean_squared_error,mean_absolute_error\n",
        "from sklearn.metrics import accuracy_score\n"
      ]
    },
    {
      "cell_type": "markdown",
      "source": [
        "## 2. Cài đặt thuật **toán**"
      ],
      "metadata": {
        "id": "osgu0Z8CLEH5"
      }
    },
    {
      "cell_type": "markdown",
      "source": [
        "# **Hoi quy don bien**"
      ],
      "metadata": {
        "id": "cTfU2FmC_VYt"
      }
    },
    {
      "cell_type": "markdown",
      "source": [
        "# tap du lieu **data**"
      ],
      "metadata": {
        "id": "EcK_q_oDC35q"
      }
    },
    {
      "cell_type": "code",
      "source": [
        "data  = pd.read_csv(\"/content/data.csv\")\n",
        "D= np.array(data)\n",
        "D = preprocessing.MinMaxScaler().fit_transform(D)\n",
        "X, y = D[:,0], D[:,-1]\n",
        "X = np.array(X) #đưa X và y về dạng ma trận\n",
        "y=np.array(y)\n",
        "X = X.reshape(-1, 1)\n",
        "X_train, X_test, y_train, y_test = train_test_split(X, y, test_size=0.2, random_state=30)"
      ],
      "metadata": {
        "id": "HRP73SFU_bj7"
      },
      "execution_count": 556,
      "outputs": []
    },
    {
      "cell_type": "code",
      "source": [
        "plt.scatter(X_train, y_train)\n",
        "plt.xlabel('trục X')\n",
        "plt.ylabel('Trục Y')\n",
        "plt.title('Biểu đồ dữ liệu X và y')\n",
        "plt.show()"
      ],
      "metadata": {
        "colab": {
          "base_uri": "https://localhost:8080/",
          "height": 474
        },
        "id": "6Nt_uJ_CLS0Y",
        "outputId": "e9097b5c-4fee-401f-d154-4a3310e7c1ed"
      },
      "execution_count": 557,
      "outputs": [
        {
          "output_type": "display_data",
          "data": {
            "text/plain": [
              "<Figure size 640x480 with 1 Axes>"
            ],
            "image/png": "[encoded data removed]"
          },
          "metadata": {}
        }
      ]
    },
    {
      "cell_type": "code",
      "source": [
        "from sklearn.linear_model import LinearRegression\n",
        "model = LinearRegression().fit(X_train, y_train)\n",
        "y_hat = model.predict(X_test)\n"
      ],
      "metadata": {
        "id": "JZgI8ReqBAtK"
      },
      "execution_count": 558,
      "outputs": []
    },
    {
      "cell_type": "code",
      "source": [
        "mse=mean_squared_error(y_test, y_hat)\n",
        "print('Mean Squared Error (MSE):', mse)\n",
        "rmse = np.sqrt(mean_squared_error(y_test, y_hat))\n",
        "print('Root Mean Squared Error (RMSE):', rmse)\n",
        "r2 = r2_score(y_test, y_hat)\n",
        "print('R-squared (R^2):', r2)\n",
        "mae = mean_absolute_error(y_test, y_hat)\n",
        "print(\"Mean Absolute Error (MAE):\", mae)"
      ],
      "metadata": {
        "colab": {
          "base_uri": "https://localhost:8080/"
        },
        "id": "g04RgHCjDbaT",
        "outputId": "4b8d7356-cca0-4f7c-aaa2-0d57de2d001c"
      },
      "execution_count": 573,
      "outputs": [
        {
          "output_type": "stream",
          "name": "stdout",
          "text": [
            "Mean Squared Error (MSE): 0.014835250217975693\n",
            "Root Mean Squared Error (RMSE): 0.1218000419457058\n",
            "R-squared (R^2): 0.7016929546049548\n",
            "Mean Absolute Error (MAE): 0.1013807065404636\n"
          ]
        }
      ]
    },
    {
      "cell_type": "markdown",
      "source": [
        "### **kết luận **\n",
        "\n",
        "Với Mean Squared Error (MSE) có giá trị là 0.014835250217975693, chúng ta có thể kết luận rằng mô hình có một tổng sai số bình phương trung bình nhỏ. MSE tính toán sự khác biệt bình phương trung bình giữa các giá trị dự đoán và giá trị thực tế, và giá trị càng nhỏ thể hiện một mô hình có khả năng dự đoán chính xác cao hơn.\n",
        "\n",
        "Tóm lại, MSE thấp chỉ ra rằng mô hình có khả năng dự đoán chính xác cao hơn, nhưng cần kết hợp với các thông tin khác và so sánh với độ đo khác để đánh giá toàn diện về hiệu suất."
      ],
      "metadata": {
        "id": "P4MSP7TQSg2R"
      }
    },
    {
      "cell_type": "markdown",
      "source": [],
      "metadata": {
        "id": "Y3YW8aETC8xj"
      }
    },
    {
      "cell_type": "markdown",
      "source": [
        "# **Hoi quy da bien**"
      ],
      "metadata": {
        "id": "BDsuNlJd_Q5U"
      }
    },
    {
      "cell_type": "code",
      "source": [
        "data  = pd.read_csv(\"/content/data.csv\")\n",
        "D = np.array(data)\n",
        "D = preprocessing.MinMaxScaler().fit_transform(D)\n",
        "X, y = D[:,:-1], D[:,-1]\n",
        "X_train, X_test, y_train, y_test = train_test_split(X, y,test_size=0.20,random_state=15)"
      ],
      "metadata": {
        "id": "bQpzRT7Z8oDN"
      },
      "execution_count": 598,
      "outputs": []
    },
    {
      "cell_type": "code",
      "source": [
        "model = linear_model.LinearRegression().fit(X_train, y_train)\n",
        "print(\"trọng sô tối ưu : w_1 = \", model.coef_[0], \"bias = \", model.intercept_)\n",
        "\n",
        "y_hat = model.predict(X_test)"
      ],
      "metadata": {
        "colab": {
          "base_uri": "https://localhost:8080/"
        },
        "id": "MTX25xizBT8L",
        "outputId": "dc1cfe05-e82a-4b9a-b9cc-168a3eb10c65"
      },
      "execution_count": 599,
      "outputs": [
        {
          "output_type": "stream",
          "name": "stdout",
          "text": [
            "trọng sô tối ưu : w_1 =  0.9143641654241058 bias =  0.047837677111003674\n"
          ]
        }
      ]
    },
    {
      "cell_type": "code",
      "source": [
        "fig, ax = plt.subplots()\n",
        "# ax.plot(X, y)\n",
        "plt.scatter(X[:,0], y, color='red')\n",
        "plt.scatter(X[:,1], y, color='yellow')\n",
        "\n",
        "ax.set_title(\"Biểu đồ đường\")\n",
        "ax.set_xlabel(\"Trục X\")\n",
        "ax.set_ylabel(\"Trục Y\")\n",
        "plt.show()"
      ],
      "metadata": {
        "colab": {
          "base_uri": "https://localhost:8080/",
          "height": 474
        },
        "id": "CjSO17X5CYqj",
        "outputId": "76f92ac0-11f8-45f5-b25f-d03bde485f19"
      },
      "execution_count": 595,
      "outputs": [
        {
          "output_type": "display_data",
          "data": {
            "text/plain": [
              "<Figure size 640x480 with 1 Axes>"
            ],
            "image/png": "[encoded data removed]"
          },
          "metadata": {}
        }
      ]
    },
    {
      "cell_type": "code",
      "source": [
        "mse=mean_squared_error(y_test, y_hat)\n",
        "print('Mean Squared Error (MSE):', mse)\n",
        "rmse = np.sqrt(mean_squared_error(y_test, y_hat))\n",
        "print('Root Mean Squared Error (RMSE):', rmse)\n",
        "r2 = r2_score(y_test, y_hat)\n",
        "print('R-squared (R^2):', r2)\n",
        "mae = mean_absolute_error(y_test, y_hat)\n",
        "print(\"Mean Absolute Error (MAE):\", mae)"
      ],
      "metadata": {
        "colab": {
          "base_uri": "https://localhost:8080/"
        },
        "id": "HzyxbKnqTnYw",
        "outputId": "f3c183df-6f0d-4707-c10e-79f7992bec9a"
      },
      "execution_count": 600,
      "outputs": [
        {
          "output_type": "stream",
          "name": "stdout",
          "text": [
            "Mean Squared Error (MSE): 0.010759301383909148\n",
            "Root Mean Squared Error (RMSE): 0.1037270523244016\n",
            "R-squared (R^2): 0.7299922570209927\n",
            "Mean Absolute Error (MAE): 0.0916646571936994\n"
          ]
        }
      ]
    },
    {
      "cell_type": "markdown",
      "source": [
        "## **kết luận**\n",
        "\n",
        "MSE đo lường độ lớn của sai số trung bình giữa dự đoán và giá trị thực tế. Giá trị MSE nhỏ hơn 1 chỉ ra rằng mô hình có khả năng dự đoán chính xác. Trong trường hợp này, MSE gần 0.01 cho thấy rằng mô hình có khả năng dự đoán tương đối tốt."
      ],
      "metadata": {
        "id": "5q13B-ddUFUR"
      }
    }
  ]
}